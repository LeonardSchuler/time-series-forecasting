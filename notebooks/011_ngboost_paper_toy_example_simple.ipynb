{
 "cells": [
  {
   "cell_type": "code",
   "execution_count": 1,
   "metadata": {},
   "outputs": [],
   "source": [
    "# taken from ngboost\n",
    "# https://github.com/stanfordmlgroup/ngboost/blob/master/figures/toy.py\n",
    "import numpy as np\n",
    "\n",
    "\n",
    "np.random.seed(1)\n",
    "def gen_data(n=50, bound=1, deg=3, beta=1, noise=0.9, intcpt=-1):\n",
    "    x = np.linspace(-bound, bound, n)[:, np.newaxis]\n",
    "    h = np.linspace(-bound, bound, n)[:, np.newaxis]\n",
    "    e = np.random.randn(*x.shape) * (0.1 + 10 * np.abs(x))\n",
    "    y = 50 * (x**deg) + h * beta + noise * e + intcpt\n",
    "    return x, y.squeeze(), np.c_[h, np.ones_like(h)]\n",
    "\n",
    "# training\n",
    "x_tr, y_tr, _ = gen_data(n=100)\n",
    "# Prepend a bias column to x_tr\n",
    "# adapted from ngboost for clarity\n",
    "#from sklearn.preprocessing import PolynomialFeatures\n",
    "#poly_transform = PolynomialFeatures(1)\n",
    "#x_tr = poly_transform.fit_transform(x_tr)\n",
    "x_tr = np.hstack([np.ones((x_tr.shape[0], 1)), x_tr])\n",
    "\n",
    "\n",
    "x_te, y_te, _ = gen_data(n=1000, bound=1.3)\n",
    "x_te = np.hstack([np.ones((x_te.shape[0], 1)), x_te])"
   ]
  },
  {
   "cell_type": "raw",
   "metadata": {
    "vscode": {
     "languageId": "raw"
    }
   },
   "source": [
    "x_tr = np.arange(10)\n",
    "y_tr = x_tr + 2\n",
    "x_tr = x_tr[:, np.newaxis]\n",
    "x_te = np.arange(20) - 5\n",
    "y_te = x_te + 2\n",
    "x_te = x_te[:, np.newaxis]\n",
    "\n",
    "from sklearn.preprocessing import StandardScaler\n",
    "\n",
    "scaler = StandardScaler()\n",
    "\n",
    "x_tr = scaler.fit_transform(x_tr)\n",
    "\n",
    "x_te = scaler.transform(x_te)\n",
    "\n",
    "scaler_y = StandardScaler()\n",
    "\n",
    "y_tr = scaler_y.fit_transform(y_tr[:, np.newaxis]).ravel()\n",
    "\n",
    "y_te = scaler_y.transform(y_te[:, np.newaxis]).ravel()"
   ]
  },
  {
   "cell_type": "code",
   "execution_count": 2,
   "metadata": {},
   "outputs": [],
   "source": [
    "BLK = 2\n",
    "\n",
    "# Default arguments\n",
    "n_estimators = 1 + BLK * 100\n",
    "lr = 0.03\n",
    "#lr = 1\n",
    "minibatch_frac = 0.1\n",
    "natural = True\n",
    "\n",
    "\n",
    "# helper\n",
    "blk = int(n_estimators / 100)"
   ]
  },
  {
   "cell_type": "markdown",
   "metadata": {},
   "source": [
    "# Model"
   ]
  },
  {
   "cell_type": "code",
   "execution_count": 3,
   "metadata": {},
   "outputs": [],
   "source": [
    "import pandas as pd\n",
    "from sklearn.tree import DecisionTreeRegressor"
   ]
  },
  {
   "cell_type": "markdown",
   "metadata": {},
   "source": [
    "$$f_\\theta(y) \\sim \\mathcal{N}(\\mu, \\sigma^2)$$\n",
    "$$\\mathcal{L}(\\theta, y) := -\\log(f_\\theta(y))$$"
   ]
  },
  {
   "cell_type": "code",
   "execution_count": 4,
   "metadata": {},
   "outputs": [],
   "source": [
    "# taken from ngboost\n",
    "def get_tree_learner():\n",
    "    tree_learner = DecisionTreeRegressor(\n",
    "        criterion=\"friedman_mse\",\n",
    "        min_samples_split=2,\n",
    "        min_samples_leaf=1,\n",
    "        min_weight_fraction_leaf=0.0,\n",
    "        max_depth=3,\n",
    "        splitter=\"best\",\n",
    "        random_state=None,\n",
    "    )\n",
    "    #tree_learner = DecisionTreeRegressor(max_depth=2)\n",
    "    return tree_learner"
   ]
  },
  {
   "cell_type": "code",
   "execution_count": 5,
   "metadata": {},
   "outputs": [],
   "source": [
    "sigma_threshold = 1e-5\n",
    "n_iterations = n_estimators\n",
    "n_samples = len(x_tr)\n",
    "n_thetas = 2\n",
    "predictions = np.zeros((n_samples, n_thetas,  n_iterations))\n",
    "\n",
    "theta_0 = np.mean(y_tr)\n",
    "theta_1 = np.std(y_tr)\n",
    "\n",
    "predictions[:, 0, 0] = theta_0\n",
    "predictions[:, 1, 0] = theta_1\n",
    "\n",
    "mu = np.ones_like(y_tr) * theta_0\n",
    "sigma = np.ones_like(y_tr) * theta_1\n",
    "\n",
    "mu_models = []\n",
    "sigma_models = []\n",
    "\n",
    "class NullModel:\n",
    "    pass\n",
    "\n",
    "mu_model = NullModel()\n",
    "sigma_model = NullModel()\n",
    "mu_model.predict = lambda x: np.ones((len(x),)) * theta_0\n",
    "sigma_model.predict = lambda x: np.ones((len(x),)) * theta_1\n",
    "mu_models.append(mu_model)\n",
    "sigma_models.append(sigma_model)\n",
    "\n",
    "\n",
    "# Perform gradient boosting for n_iterations\n",
    "for t in range(1, n_iterations):\n",
    "    # Calculate gradients\n",
    "    with np.errstate(divide='ignore'):\n",
    "        if natural:\n",
    "            dmu = -(y_tr - mu)\n",
    "            dsigma = sigma/2 - ((y_tr - mu)**2) / (2 * sigma)\n",
    "        else:\n",
    "            dmu = -(y_tr - mu) / (sigma**2)\n",
    "            dsigma = 1 / sigma - ((y_tr - mu)**2) / (sigma**3)\n",
    "\n",
    "    dmu[sigma < sigma_threshold] = 0\n",
    "    dsigma[sigma < sigma_threshold] = 0\n",
    "\n",
    "    # Fit the weak learner (shallow decision tree) to the negative gradient\n",
    "    mu_model = get_tree_learner()\n",
    "    sigma_model = get_tree_learner()\n",
    "\n",
    "    mu_model.fit(x_tr, dmu)\n",
    "    sigma_model.fit(x_tr, dsigma)\n",
    "    mu_models.append(mu_model)\n",
    "    sigma_models.append(sigma_model)\n",
    "\n",
    "    # Predictions from the weak learners\n",
    "    mu_eps = mu_model.predict(x_tr)\n",
    "    sigma_eps = sigma_model.predict(x_tr)\n",
    "\n",
    "    mu = mu - lr * mu_eps # == predictions[:, 0, t - 1] + lr * mu_eps\n",
    "    sigma = sigma - lr * sigma_eps # == predictions[:, 1, t - 1] + lr * sigma_eps\n",
    "    sigma[sigma <= 0] = 0\n",
    "\n",
    "    # Update model\n",
    "    predictions[:, 0, t] = mu\n",
    "    predictions[:, 1, t] = sigma"
   ]
  },
  {
   "cell_type": "code",
   "execution_count": null,
   "metadata": {},
   "outputs": [],
   "source": [
    "# Now we convert this into two pandas DataFrames for better presentation\n",
    "df_mu = pd.DataFrame(predictions[:, 0, :], columns=[f\"mu_{i}\" for i in range(n_iterations)])\n",
    "df_mu[\"y\"] = y_tr  # Adding the target values as a column\n",
    "\n",
    "# Display the result\n",
    "display(df_mu)\n",
    "\n",
    "df_sigma = pd.DataFrame(predictions[:, 1, :], columns=[f\"sigma_{i}\" for i in range(n_iterations)])\n",
    "\n",
    "# Display the result\n",
    "display(df_sigma)"
   ]
  },
  {
   "cell_type": "code",
   "execution_count": null,
   "metadata": {},
   "outputs": [],
   "source": [
    "df_mu.iloc[:, 3].unique()"
   ]
  },
  {
   "cell_type": "code",
   "execution_count": 8,
   "metadata": {},
   "outputs": [],
   "source": [
    "def get_all_mu_preds(x):\n",
    "    preds = [model.predict(x) for model in mu_models]\n",
    "    df = pd.DataFrame(preds).T\n",
    "    df.iloc[:, 1:] = (-lr * df.iloc[:, 1:])\n",
    "    df = df.cumsum(axis=1)\n",
    "    return df\n",
    "\n",
    "def get_all_sigma_preds(x):\n",
    "    preds = [model.predict(x) for model in sigma_models]\n",
    "    df = pd.DataFrame(preds).T\n",
    "    df.iloc[:, 1:] = (-lr * df.iloc[:, 1:])\n",
    "    df = df.cumsum(axis=1)\n",
    "    return df"
   ]
  },
  {
   "cell_type": "markdown",
   "metadata": {},
   "source": [
    "# Plot"
   ]
  },
  {
   "cell_type": "code",
   "execution_count": 9,
   "metadata": {},
   "outputs": [],
   "source": [
    "import matplotlib.pyplot as plt"
   ]
  },
  {
   "cell_type": "code",
   "execution_count": null,
   "metadata": {},
   "outputs": [],
   "source": [
    "mu_preds = get_all_mu_preds(x_te)\n",
    "sigma_preds = get_all_sigma_preds(x_te)\n",
    "mu = mu_preds.iloc[:, -1]\n",
    "sigma = sigma_preds.iloc[:, -1]\n",
    "plt.figure(figsize=(6, 3))\n",
    "plt.scatter(x_tr[:, -1], y_tr, color=\"black\", marker=\".\", alpha=0.5)\n",
    "plt.plot(x_te[:, -1], mu, color=\"black\", linestyle=\"-\", linewidth=1)\n",
    "plt.plot(\n",
    "    x_te[:, -1],\n",
    "    mu - 1.96 * sigma,\n",
    "    color=\"black\",\n",
    "    linestyle=\"--\",\n",
    "    linewidth=0.3,\n",
    ")\n",
    "plt.plot(\n",
    "    x_te[:, -1],\n",
    "    mu + 1.96 * sigma,\n",
    "    color=\"black\",\n",
    "    linestyle=\"--\",\n",
    "    linewidth=0.3,\n",
    ")\n",
    "plt.ylim([y_te.min()-2, y_te.max()+2])\n",
    "plt.axis(\"off\")\n",
    "plt.title(\n",
    "    \"%s Gradient: 100%% fit\"\n",
    "    % (\"Natural\" if natural else \"Ordinary\")\n",
    ")\n",
    "plt.tight_layout()"
   ]
  },
  {
   "cell_type": "code",
   "execution_count": null,
   "metadata": {},
   "outputs": [],
   "source": [
    "import matplotlib.pyplot as plt\n",
    "\n",
    "\n",
    "mu_preds = get_all_mu_preds(x_te)\n",
    "sigma_preds = get_all_sigma_preds(x_te)\n",
    "\n",
    "\n",
    "filenames = []\n",
    "for i in range(n_estimators):\n",
    "    if i % blk != 0:\n",
    "        continue\n",
    "    mu = mu_preds.iloc[:, i]\n",
    "    sigma = sigma_preds.iloc[:, i]\n",
    "    plt.figure(figsize=(6, 3))\n",
    "    plt.scatter(x_tr[:, -1], y_tr, color=\"black\", marker=\".\", alpha=0.5)\n",
    "    plt.plot(x_te[:, -1], mu, color=\"black\", linestyle=\"-\", linewidth=1)\n",
    "    plt.plot(\n",
    "        x_te[:, -1],\n",
    "        mu - 1.96 * sigma,\n",
    "        color=\"black\",\n",
    "        linestyle=\"--\",\n",
    "        linewidth=0.3,\n",
    "    )\n",
    "    plt.plot(\n",
    "        x_te[:, -1],\n",
    "        mu + 1.96 * sigma,\n",
    "        color=\"black\",\n",
    "        linestyle=\"--\",\n",
    "        linewidth=0.3,\n",
    "    )\n",
    "    plt.ylim([-75, 75])\n",
    "    plt.axis(\"off\")\n",
    "    plt.title(\n",
    "        \"%s Gradient: %02d%% fit\"\n",
    "        % (\"Natural\" if natural else \"Ordinary\", i / blk)\n",
    "    )\n",
    "    plt.tight_layout()\n",
    "\n",
    "    filenames.append(\"./figures/anim/toy%d.png\" % i)\n",
    "    print(\"Saving ./figures/anim/toy%d\" % i)\n",
    "    plt.savefig(\"./figures/anim/toy%d.png\" % i)\n",
    "    if i % 100 == 0:\n",
    "        plt.savefig(\"./figures/anim/toy%d.pdf\" % i)\n",
    "\n"
   ]
  },
  {
   "cell_type": "code",
   "execution_count": 12,
   "metadata": {},
   "outputs": [],
   "source": [
    "# create a gif\n",
    "import imageio\n",
    "\n",
    "images = []\n",
    "for filename in filenames:\n",
    "    images.append(imageio.v2.imread(filename))\n",
    "for _ in range(10):\n",
    "    images.append(imageio.v2.imread(filename))\n",
    "imageio.mimsave(f\"./figures/toy_{'natural' if natural else 'ordinary'}_no_ng.gif\", images, fps=5)"
   ]
  },
  {
   "cell_type": "code",
   "execution_count": null,
   "metadata": {},
   "outputs": [],
   "source": []
  }
 ],
 "metadata": {
  "kernelspec": {
   "display_name": ".venv",
   "language": "python",
   "name": "python3"
  },
  "language_info": {
   "codemirror_mode": {
    "name": "ipython",
    "version": 3
   },
   "file_extension": ".py",
   "mimetype": "text/x-python",
   "name": "python",
   "nbconvert_exporter": "python",
   "pygments_lexer": "ipython3",
   "version": "3.11.10"
  }
 },
 "nbformat": 4,
 "nbformat_minor": 2
}
